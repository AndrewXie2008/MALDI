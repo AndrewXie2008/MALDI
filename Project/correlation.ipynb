{
 "cells": [
  {
   "cell_type": "code",
   "execution_count": null,
   "metadata": {},
   "outputs": [],
   "source": [
    "import pickle\n",
    "import numpy as np\n",
    "from scipy.stats import pearsonr\n",
    "import pandas as pd\n",
    "\n",
    "with open(r'/Users/andrewxie/Coding/my_own/saved_dictionary.pkl', 'rb') as f:\n",
    "    maps_all = pickle.load(f)\n",
    "\n",
    "names = list(maps_all.keys())\n",
    "maps = list(maps_all.values())\n",
    "\n",
    "flattened_maps = [map.flatten() for map in maps]\n",
    "for arr in flattened_maps:\n",
    "    np.nan_to_num(arr, copy=False)\n",
    "\n",
    "df = pd.DataFrame(columns = [\"Name 1\", \"Name 2\", \"Correlation\", \"P-value\"])\n",
    "\n",
    "rows = []\n",
    "for i in range(len(names)):\n",
    "    for j in range(i+1, len(names)):\n",
    "        corr, pval = pearsonr(flattened_maps[i], flattened_maps[j])\n",
    "        rows.append({\"Name 1\": names[i], \"Name 2\": names[j], \"Correlation\": corr, \"P-value\": pval})\n",
    "\n",
    "df = pd.DataFrame(rows)\n",
    "sorted = df.sort_values(by='Correlation', ascending=False)\n",
    "\n",
    "sorted.to_csv('sorted_correlation.csv', index=False, sep=\",\")"
   ]
  }
 ],
 "metadata": {
  "language_info": {
   "name": "python"
  }
 },
 "nbformat": 4,
 "nbformat_minor": 2
}
